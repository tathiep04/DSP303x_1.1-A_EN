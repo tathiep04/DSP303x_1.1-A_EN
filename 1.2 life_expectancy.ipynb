{
 "cells": [
  {
   "cell_type": "markdown",
   "metadata": {
    "id": "EbskizSFNZuS"
   },
   "source": [
    "## Lab Introduction\n",
    "Advances in medicine, an increase in healthcare facilities, and improved standards of care have all contributed to an increased overall life expectancy over the last few decades. Although this might seem like great achievement for humanity, it has also led to the abandonment of more elderly people into senior-care and assisted living communities. The morality, benefits, and disadvantages of leaving one's parents in such facilities are still debatable; however, the fact that this practice has increased the financial burden on both the private-sector and government is not.\n",
    "\n",
    "In this lab, you will be using the subset a life expectancy dataset, provided courtesy of the Center for Disease Control and Prevention's National Center for Health Statistics page. The page hosts many open datasets on topics ranging from injuries, poverty, women's health, education, health insurance, and of course infectious diseases, and much more. But the one you'll be using is their \"Life expectancy at birth, at age 65, and at age 75, by sex, race, and origin\" data set, which has statistics dating back from the 1900's to current, taken within the United States. We have included a copy of the dataset as **[life_expectancy.csv](https://drive.google.com/file/d/15FD3Ix2kgYT4rK5dnUassjA4aeKN7mVp/view?usp=sharing)**. The dataset only lists the life expectancy of whites and blacks, because throughout most of the collection period, those were the dominant two races that actively had their statistics recorded within the U.S.\n",
    "\n",
    "Using linear regression, you will extrapolate how long people will live in the future. The private sector and governments mirror these calculations when computing social security payouts, taxes, infrastructure, and more. "
   ]
  },
  {
   "cell_type": "code",
   "execution_count": 1,
   "metadata": {
    "id": "sLpcnJrbNZuT"
   },
   "outputs": [],
   "source": [
    "import pandas as pd\n",
    "import numpy as np\n",
    "import matplotlib\n",
    "import matplotlib.pyplot as plt\n",
    "\n",
    "matplotlib.style.use('ggplot') # Look Pretty"
   ]
  },
  {
   "cell_type": "markdown",
   "metadata": {
    "id": "QC-07iUxNZue"
   },
   "source": [
    "### A Convenience Function"
   ]
  },
  {
   "cell_type": "markdown",
   "metadata": {
    "id": "iIqIxTADNZug"
   },
   "source": [
    "This convenience method will take care of plotting your test observations, comparing them to the regression line, and displaying the R2 coefficient"
   ]
  },
  {
   "cell_type": "code",
   "execution_count": 2,
   "metadata": {
    "id": "x_o6tM4dNZuh"
   },
   "outputs": [],
   "source": [
    "def drawLine(model, X_test, y_test, title):\n",
    "    fig = plt.figure()\n",
    "    ax = fig.add_subplot(111)\n",
    "    ax.scatter(X_test, y_test, c='g', marker='o')\n",
    "    ax.plot(X_test, model.predict(X_test), color='orange', linewidth=1, alpha=0.7)\n",
    "\n",
    "    print(\"Est 2014 \" + title + \" Life Expectancy: \", model.predict([[2014]])[0])\n",
    "    print(\"Est 2030 \" + title + \" Life Expectancy: \", model.predict([[2030]])[0])\n",
    "    print(\"Est 2045 \" + title + \" Life Expectancy: \", model.predict([[2045]])[0])\n",
    "\n",
    "    score = model.score(X_test, y_test)\n",
    "    title += \" R2: \" + str(score)\n",
    "    ax.set_title(title)\n",
    "\n",
    "    plt.show()"
   ]
  },
  {
   "cell_type": "markdown",
   "metadata": {
    "id": "6FJs_0ufNZun"
   },
   "source": [
    "## 1. Data Preparation"
   ]
  },
  {
   "cell_type": "markdown",
   "metadata": {
    "id": "6_8izaLMNZup"
   },
   "source": [
    "Load up the data here into a variable called `X`. As usual, do a .describe and a print of your dataset and compare it to the dataset loaded in a text file or in a spread sheet application:"
   ]
  },
  {
   "cell_type": "code",
   "execution_count": 3,
   "metadata": {
    "id": "bmT8Od0BNZur"
   },
   "outputs": [
    {
     "data": {
      "text/html": [
       "<div>\n",
       "<style scoped>\n",
       "    .dataframe tbody tr th:only-of-type {\n",
       "        vertical-align: middle;\n",
       "    }\n",
       "\n",
       "    .dataframe tbody tr th {\n",
       "        vertical-align: top;\n",
       "    }\n",
       "\n",
       "    .dataframe thead th {\n",
       "        text-align: right;\n",
       "    }\n",
       "</style>\n",
       "<table border=\"1\" class=\"dataframe\">\n",
       "  <thead>\n",
       "    <tr style=\"text-align: right;\">\n",
       "      <th></th>\n",
       "      <th>Year</th>\n",
       "      <th>WhiteMale</th>\n",
       "      <th>WhiteFemale</th>\n",
       "      <th>BlackMale</th>\n",
       "      <th>BlackFemale</th>\n",
       "    </tr>\n",
       "  </thead>\n",
       "  <tbody>\n",
       "    <tr>\n",
       "      <th>count</th>\n",
       "      <td>40.00</td>\n",
       "      <td>40.00</td>\n",
       "      <td>40.00</td>\n",
       "      <td>40.00</td>\n",
       "      <td>40.00</td>\n",
       "    </tr>\n",
       "    <tr>\n",
       "      <th>mean</th>\n",
       "      <td>1991.25</td>\n",
       "      <td>72.73</td>\n",
       "      <td>78.59</td>\n",
       "      <td>65.91</td>\n",
       "      <td>73.26</td>\n",
       "    </tr>\n",
       "    <tr>\n",
       "      <th>std</th>\n",
       "      <td>20.54</td>\n",
       "      <td>4.97</td>\n",
       "      <td>5.20</td>\n",
       "      <td>6.42</td>\n",
       "      <td>7.16</td>\n",
       "    </tr>\n",
       "    <tr>\n",
       "      <th>min</th>\n",
       "      <td>1900.00</td>\n",
       "      <td>46.60</td>\n",
       "      <td>48.70</td>\n",
       "      <td>32.50</td>\n",
       "      <td>33.50</td>\n",
       "    </tr>\n",
       "    <tr>\n",
       "      <th>25%</th>\n",
       "      <td>1984.75</td>\n",
       "      <td>71.80</td>\n",
       "      <td>78.70</td>\n",
       "      <td>64.57</td>\n",
       "      <td>73.40</td>\n",
       "    </tr>\n",
       "    <tr>\n",
       "      <th>50%</th>\n",
       "      <td>1994.50</td>\n",
       "      <td>73.35</td>\n",
       "      <td>79.65</td>\n",
       "      <td>65.25</td>\n",
       "      <td>73.90</td>\n",
       "    </tr>\n",
       "    <tr>\n",
       "      <th>75%</th>\n",
       "      <td>2004.25</td>\n",
       "      <td>75.50</td>\n",
       "      <td>80.50</td>\n",
       "      <td>69.43</td>\n",
       "      <td>76.12</td>\n",
       "    </tr>\n",
       "    <tr>\n",
       "      <th>max</th>\n",
       "      <td>2014.00</td>\n",
       "      <td>76.70</td>\n",
       "      <td>81.40</td>\n",
       "      <td>72.50</td>\n",
       "      <td>78.40</td>\n",
       "    </tr>\n",
       "  </tbody>\n",
       "</table>\n",
       "</div>"
      ],
      "text/plain": [
       "          Year  WhiteMale  WhiteFemale  BlackMale  BlackFemale\n",
       "count    40.00      40.00        40.00      40.00        40.00\n",
       "mean   1991.25      72.73        78.59      65.91        73.26\n",
       "std      20.54       4.97         5.20       6.42         7.16\n",
       "min    1900.00      46.60        48.70      32.50        33.50\n",
       "25%    1984.75      71.80        78.70      64.57        73.40\n",
       "50%    1994.50      73.35        79.65      65.25        73.90\n",
       "75%    2004.25      75.50        80.50      69.43        76.12\n",
       "max    2014.00      76.70        81.40      72.50        78.40"
      ]
     },
     "execution_count": 3,
     "metadata": {},
     "output_type": "execute_result"
    }
   ],
   "source": [
    "#\n",
    "X = pd.read_csv(\"life_expectancy.csv\", sep='\\t', header=0)\n",
    "round(X.describe(),2)"
   ]
  },
  {
   "cell_type": "markdown",
   "metadata": {
    "id": "DvScm573NZux"
   },
   "source": [
    "\n",
    "Create your linear regression model here and store it in a variable called `model`. Don't actually train or do anything else with it yet:"
   ]
  },
  {
   "cell_type": "code",
   "execution_count": 4,
   "metadata": {
    "id": "fjM2b1ZqNZuz"
   },
   "outputs": [],
   "source": [
    "#\n",
    "from sklearn import linear_model\n",
    "model = linear_model.LinearRegression()"
   ]
  },
  {
   "cell_type": "markdown",
   "metadata": {
    "id": "JunfsyPXNZu5"
   },
   "source": [
    "\n",
    "Slice out your data manually (e.g. don't use `train_test_split`, but actually do the indexing yourself. Set `X_train` to be year values LESS than 1986, and `y_train` to be corresponding 'WhiteMale' age values. You might also want to read the note about slicing on the bottom of this document before proceeding:"
   ]
  },
  {
   "cell_type": "code",
   "execution_count": 5,
   "metadata": {
    "id": "eOnsQY5gNZu7"
   },
   "outputs": [],
   "source": [
    "# .. your code here ..\n",
    "X.head()\n",
    "X_train = []; X_test= []\n",
    "y_train =[];y_test=[]\n",
    "for item in range(len(X)):\n",
    "    if X['Year'][item] < 1986:\n",
    "        X_train.append(X['Year'][item])\n",
    "        y_train.append(X['WhiteMale'][item])\n",
    "    else:\n",
    "        X_test.append(X['Year'][item])\n",
    "        y_test.append(X['WhiteMale'][item])\n",
    "\n",
    "X_train = pd.DataFrame(X_train)\n",
    "y_train = pd.DataFrame(y_train)\n",
    "X_test = pd.DataFrame(X_test)\n",
    "y_test = pd.DataFrame(y_test)"
   ]
  },
  {
   "cell_type": "markdown",
   "metadata": {
    "id": "66NvFjtzNZvE"
   },
   "source": [
    "## 2. Training the Model\n",
    "Train your model then pass it into `drawLine` with your training set and labels. "
   ]
  },
  {
   "cell_type": "code",
   "execution_count": 6,
   "metadata": {
    "id": "nig1mhj0NZvF"
   },
   "outputs": [
    {
     "name": "stdout",
     "output_type": "stream",
     "text": [
      "Est 2014 Something just like this Life Expectancy:  [80.85635426]\n",
      "Est 2030 Something just like this Life Expectancy:  [85.39349384]\n",
      "Est 2045 Something just like this Life Expectancy:  [89.6470622]\n"
     ]
    },
    {
     "data": {
      "image/png": "[encoded data removed]",
      "text/plain": [
       "<Figure size 432x288 with 1 Axes>"
      ]
     },
     "metadata": {
      "needs_background": "light"
     },
     "output_type": "display_data"
    }
   ],
   "source": [
    "# .. your code here ..\n",
    "Naruto = model.fit(X_train,y_train)\n",
    "drawLine(Naruto,X_test,y_test,'Something just like this')"
   ]
  },
  {
   "cell_type": "markdown",
   "metadata": {
    "id": "MBTZzIRsQCRj"
   },
   "source": [
    "## 3. Model Evaluation\n",
    "You can title the model 'WhiteMale'. `drawLine` will output to the console a 2014 extrapolation / approximation for what it believes the WhiteMale's life expectancy in the U.S. will be... given the pre-1986 data you trained it with. It'll also produce a 2030 and 2045 extrapolation:"
   ]
  },
  {
   "cell_type": "code",
   "execution_count": 7,
   "metadata": {
    "id": "LFoZM7_NQKqw"
   },
   "outputs": [
    {
     "name": "stdout",
     "output_type": "stream",
     "text": [
      "Est 2014 Life Expectancy:  [80.85635426]\n",
      "Est 2030 Life Expectancy:  [85.39349384]\n",
      "Est 2045 Life Expectancy:  [89.6470622]\n"
     ]
    }
   ],
   "source": [
    "# .. your code here ..\n",
    "print(\"Est 2014 Life Expectancy: \", model.predict([[2014]])[0])\n",
    "print(\"Est 2030 Life Expectancy: \", model.predict([[2030]])[0])\n",
    "print(\"Est 2045 Life Expectancy: \", model.predict([[2045]])[0])\n"
   ]
  },
  {
   "cell_type": "markdown",
   "metadata": {
    "id": "JedI0_4mNZvN"
   },
   "source": [
    "Print the actual 2014 'WhiteMale' life expectancy from your loaded dataset"
   ]
  },
  {
   "cell_type": "code",
   "execution_count": 8,
   "metadata": {
    "id": "taMzWaXENZvO"
   },
   "outputs": [
    {
     "data": {
      "text/plain": [
       "Year           2014.0\n",
       "WhiteMale        76.7\n",
       "WhiteFemale      81.4\n",
       "BlackMale        72.5\n",
       "BlackFemale      78.4\n",
       "Name: 39, dtype: float64"
      ]
     },
     "execution_count": 8,
     "metadata": {},
     "output_type": "execute_result"
    }
   ],
   "source": [
    "# .. your code here ..\n",
    "X.iloc[39]"
   ]
  },
  {
   "cell_type": "markdown",
   "metadata": {
    "id": "RaU2b5J8NZvU"
   },
   "source": [
    "Repeat the process, but instead of for WhiteMale, this time select BlackFemale. Create a slice for BlackFemales, fit your model, and then call `drawLine`. Lastly, print out the actual 2014 BlackFemale life expectancy:"
   ]
  },
  {
   "cell_type": "code",
   "execution_count": 9,
   "metadata": {
    "id": "WzCxoeVENZvV"
   },
   "outputs": [
    {
     "name": "stdout",
     "output_type": "stream",
     "text": [
      "Est 2014 Something just like this Life Expectancy:  [88.6988994]\n",
      "Est 2030 Something just like this Life Expectancy:  [96.11438808]\n",
      "Est 2045 Something just like this Life Expectancy:  [103.06640871]\n"
     ]
    },
    {
     "data": {
      "image/png": "[encoded data removed]",
      "text/plain": [
       "<Figure size 432x288 with 1 Axes>"
      ]
     },
     "metadata": {
      "needs_background": "light"
     },
     "output_type": "display_data"
    }
   ],
   "source": [
    "# .. your code here .. \n",
    "X.head()\n",
    "X_train = []; X_test= []\n",
    "y_train =[];y_test=[]\n",
    "for item in range(len(X)):\n",
    "    if X['Year'][item] < 1986:\n",
    "        X_train.append(X['Year'][item])\n",
    "        y_train.append(X['BlackFemale'][item])\n",
    "    else:\n",
    "        X_test.append(X['Year'][item])\n",
    "        y_test.append(X['BlackFemale'][item])\n",
    "\n",
    "X_train = pd.DataFrame(X_train)\n",
    "y_train = pd.DataFrame(y_train)\n",
    "X_test = pd.DataFrame(X_test)\n",
    "y_test = pd.DataFrame(y_test)\n",
    "\n",
    "Sasuke = model.fit(X_train,y_train)\n",
    "drawLine(Sasuke,X_test,y_test,'Something just like this')"
   ]
  },
  {
   "cell_type": "markdown",
   "metadata": {
    "id": "nmOKKBrmNZvb"
   },
   "source": [
    "Lastly, print out a correlation matrix for your entire dataset, and display a visualization of the correlation matrix, just as we described in the visualization section of the course:"
   ]
  },
  {
   "cell_type": "code",
   "execution_count": 14,
   "metadata": {
    "id": "VHq2oDlGNZvd"
   },
   "outputs": [
    {
     "data": {
      "image/png": "[encoded data removed]",
      "text/plain": [
       "<Figure size 432x288 with 2 Axes>"
      ]
     },
     "metadata": {
      "needs_background": "light"
     },
     "output_type": "display_data"
    }
   ],
   "source": [
    "# .. your code here ..\n",
    "import seaborn as sns\n",
    "sns.heatmap(X.corr(),vmin=-1, vmax=1, annot=True)\n",
    "plt.show()"
   ]
  },
  {
   "cell_type": "code",
   "execution_count": 11,
   "metadata": {
    "id": "TnoXl25SNZvm"
   },
   "outputs": [],
   "source": [
    "plt.show()"
   ]
  },
  {
   "cell_type": "markdown",
   "metadata": {
    "id": "K4uQ-vVeNZvu"
   },
   "source": [
    "## Notes On Fitting, Scoring, and Predicting:"
   ]
  },
  {
   "cell_type": "markdown",
   "metadata": {
    "id": "BEBtKp4jNZvw"
   },
   "source": [
    "Here's a hint to help you complete the lab without pulling your hair out! When you use `.fit()`, `.score()`, and `.predict()` on your model, SciKit-Learn expects your training data to be in spreadsheet (2D Array-Like) form. This means you can't simply pass in a 1D Array (slice) and get away with it.\n",
    "\n",
    "To properly prep your data, you have to pass in a 2D Numpy Array, or a dataframe. But what happens if you really only want to pass in a single feature?\n",
    "\n",
    "If you slice your dataframe using `df[['ColumnName']]` syntax, the result that comes back is actually a _dataframe_. Go ahead and do a `type()` on it to check it out. Since it's already a dataframe, you're good -- no further changes needed.\n",
    "\n",
    "But if you slice your dataframe using the `df.ColumnName` syntax, OR if you call `df['ColumnName']`, the result that comes back is actually a series (1D Array)! This will cause SKLearn to bug out. So if you are slicing using either of those two techniques, before sending your training or testing data to `.fit` / `.score`, do `any_column = my_column.reshape(-1,1)`. \n",
    "\n",
    "This will convert your 1D array of `[n_samples]`, to a 2D array shaped like `[n_samples, 1]`. A single feature, with many samples.\n",
    "\n",
    "If you did something like `my_column = [my_column]`, that would produce an array in the shape of `[1, n_samples]`, which is incorrect because SKLearn expects your data to be arranged as `[n_samples, n_features]`. Keep in mind, all of the above only relates to your `X` or input data, and does not apply to your `y` or labels."
   ]
  }
 ],
 "metadata": {
  "anaconda-cloud": {},
  "colab": {
   "collapsed_sections": [
    "EbskizSFNZuS",
    "QC-07iUxNZue",
    "6FJs_0ufNZun",
    "66NvFjtzNZvE",
    "MBTZzIRsQCRj",
    "K4uQ-vVeNZvu"
   ],
   "name": "life_expectancy.ipynb",
   "provenance": [],
   "toc_visible": true
  },
  "kernelspec": {
   "display_name": "Python 3",
   "language": "python",
   "name": "python3"
  },
  "language_info": {
   "codemirror_mode": {
    "name": "ipython",
    "version": 3
   },
   "file_extension": ".py",
   "mimetype": "text/x-python",
   "name": "python",
   "nbconvert_exporter": "python",
   "pygments_lexer": "ipython3",
   "version": "3.7.3"
  },
  "toc": {
   "colors": {
    "hover_highlight": "#DAA520",
    "running_highlight": "#FF0000",
    "selected_highlight": "#FFD700"
   },
   "moveMenuLeft": true,
   "nav_menu": {
    "height": "58px",
    "width": "252px"
   },
   "navigate_menu": true,
   "number_sections": true,
   "sideBar": true,
   "threshold": 4,
   "toc_cell": false,
   "toc_section_display": "block",
   "toc_window_display": false,
   "widenNotebook": false
  }
 },
 "nbformat": 4,
 "nbformat_minor": 4
}
